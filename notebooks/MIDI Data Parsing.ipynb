{
 "cells": [
  {
   "cell_type": "code",
   "execution_count": 21,
   "metadata": {
    "scrolled": true
   },
   "outputs": [
    {
     "data": {
      "text/plain": [
       "'\\nmidi_f = \"../data/synths/.midi\"\\n\\nmidi = converter.parse(midi_f)\\n\\nmidi_parts = instrument.partitionByInstrument(midi)\\n\\nmidi_parts.show(\\'text\\')\\n\\n#for instrument in midi_parts.recurse():\\n#    print(instrument)\\n'"
      ]
     },
     "execution_count": 21,
     "metadata": {},
     "output_type": "execute_result"
    }
   ],
   "source": [
    "from music21 import converter, note\n",
    "import copy\n",
    "\n",
    "'''\n",
    "midi_f = \"../data/synths/.midi\"\n",
    "\n",
    "midi = converter.parse(midi_f)\n",
    "\n",
    "midi_parts = instrument.partitionByInstrument(midi)\n",
    "\n",
    "midi_parts.show('text')\n",
    "\n",
    "#for instrument in midi_parts.recurse():\n",
    "#    print(instrument)\n",
    "'''\n"
   ]
  },
  {
   "cell_type": "code",
   "execution_count": 22,
   "metadata": {},
   "outputs": [],
   "source": [
    "\n",
    "# from `http://localhost:8888/notebooks/notebooks/Spotify%20API%20Music%20Scrape.ipynb`\n",
    "\n",
    "csv_f = \"../data/melodia/data/CrazyInLove.csv\"\n",
    "wav_f = \"../data/melodia/synths/CrazyInLove.melo.wav\"\n",
    "wav_mix_f = \"../data/melodia/synths/CrazyInLove.melo.and.orig.wav\"\n",
    "wav_orig_f = \"../data/melodia/synths/CrazyInLove.orig.wav\"\n",
    "midi_f = \"../data/melodia/synths/CrazyInLove.melo.midi\"\n",
    "\n",
    "midi = converter.parse(midi_f)[0] # only one part for now\n",
    "\n",
    "#midi.show('text')"
   ]
  },
  {
   "cell_type": "code",
   "execution_count": 47,
   "metadata": {},
   "outputs": [],
   "source": [
    "def get_grammars(midi):\n",
    "    \n",
    "    # Clean up anything not a Note or a Rest\n",
    "    midi_clean = copy.deepcopy(midi)\n",
    "    midi_clean.removeByNotOfClass(['Note', 'Rest'])\n",
    "\n",
    "    # Construct Full Grammar\n",
    "    fullGrammar = \"\"\n",
    "\n",
    "    for i, n in enumerate(midi_clean):\n",
    "\n",
    "        note_duration = float(n.duration.quarterLength)\n",
    "\n",
    "        # Check Element, Pitch Name, Pitch Octave ~ for now, only check if Rest or Note\n",
    "        element_type = ' '\n",
    "        pitch_name = ' '\n",
    "        pitch_octave = ' '\n",
    "\n",
    "        if isinstance(n, note.Rest):\n",
    "            element_type = 'R'\n",
    "            pitch_name = 'X'\n",
    "            pitch_octave = 'X'\n",
    "        elif isinstance(n, note.Note):\n",
    "            element_type = 'N'\n",
    "            pitch_name = n.pitch.name\n",
    "            pitch_octave = n.pitch.octave\n",
    "\n",
    "        note_info = \"%s,%s%s,%.3f\" % (element_type, pitch_name, pitch_octave, note_duration)\n",
    "\n",
    "        fullGrammar += (note_info + ' ')\n",
    "\n",
    "    return(fullGrammar.rstrip())"
   ]
  },
  {
   "cell_type": "code",
   "execution_count": 48,
   "metadata": {},
   "outputs": [],
   "source": [
    "def get_corpus_data(fullGrammar):\n",
    "    \n",
    "    # https://github.com/keras-team/keras/blob/master/examples/lstm_text_generation.py\n",
    "\n",
    "    corpus = grammars.split(' ')\n",
    "    values = sorted(list(set(corpus)))\n",
    "    print(\"Length of corpus: %d\\nLength of dict: %d\" % (len(corpus), len(values)))\n",
    "    val_indices = dict((v, i) for i, v in enumerate(values))\n",
    "    indices_val = dict((i, v) for i, v in enumerate(values))\n",
    "\n",
    "    return(corpus, values, val_indices, indices_val)"
   ]
  },
  {
   "cell_type": "code",
   "execution_count": 49,
   "metadata": {},
   "outputs": [
    {
     "name": "stdout",
     "output_type": "stream",
     "text": [
      "Length of corpus: 105\n",
      "Length of dict: 53\n"
     ]
    }
   ],
   "source": [
    "grammars = get_grammars(midi)\n",
    "corpus, values, val_indices, indices_val = get_corpus_data(grammars)"
   ]
  },
  {
   "cell_type": "code",
   "execution_count": null,
   "metadata": {},
   "outputs": [],
   "source": []
  }
 ],
 "metadata": {
  "kernelspec": {
   "display_name": "Python 3",
   "language": "python",
   "name": "python3"
  },
  "language_info": {
   "codemirror_mode": {
    "name": "ipython",
    "version": 3
   },
   "file_extension": ".py",
   "mimetype": "text/x-python",
   "name": "python",
   "nbconvert_exporter": "python",
   "pygments_lexer": "ipython3",
   "version": "3.6.5"
  }
 },
 "nbformat": 4,
 "nbformat_minor": 2
}
