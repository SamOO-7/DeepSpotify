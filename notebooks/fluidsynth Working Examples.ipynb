{
 "cells": [
  {
   "cell_type": "markdown",
   "metadata": {},
   "source": [
    "## Example 1 - Simple"
   ]
  },
  {
   "cell_type": "code",
   "execution_count": 5,
   "metadata": {},
   "outputs": [
    {
     "name": "stdout",
     "output_type": "stream",
     "text": [
      "DescribeResult(nobs=264600, minmax=(-3408.0, 3597.0), mean=0.2535449735449735, variance=386313.05661085196, skewness=0.001675100241302679, kurtosis=1.6251365859280398)\n",
      "DescribeResult(nobs=264600, minmax=(-3408.0, 3597.0), mean=0.2535449735449735, variance=386313.05661085196, skewness=0.001675100241302679, kurtosis=1.6251365859280398)\n",
      "529200\n",
      "Starting playback\n"
     ]
    }
   ],
   "source": [
    "import time\n",
    "import numpy\n",
    "import pyaudio\n",
    "import fluidsynth\n",
    "from scipy import stats\n",
    "\n",
    "pa = pyaudio.PyAudio()\n",
    "strm = pa.open(\n",
    "    format = pyaudio.paInt16,\n",
    "    channels = 2, \n",
    "    rate = 44100, \n",
    "    output = True)\n",
    "\n",
    "s = []\n",
    "\n",
    "fl = fluidsynth.Synth()\n",
    "\n",
    "# Initial silence is 1 second\n",
    "s = numpy.append(s, fl.get_samples(44100 * 1))\n",
    "\n",
    "sfid = fl.sfload(\"../data/sf2/example.sf2\")\n",
    "fl.program_select(0, sfid, 0, 0)\n",
    "\n",
    "fl.noteon(0, 60, 30)\n",
    "fl.noteon(0, 67, 30)\n",
    "fl.noteon(0, 76, 30)\n",
    "\n",
    "fl.noteon(0, 50, 30)\n",
    "fl.noteon(0, 57, 30)\n",
    "fl.noteon(0, 66, 30)\n",
    "\n",
    "# Chord is held for 2 seconds\n",
    "s = numpy.append(s, fl.get_samples(44100 * 2))\n",
    "\n",
    "print(stats.describe(s))\n",
    "\n",
    "fl.noteoff(0, 60)\n",
    "fl.noteoff(0, 67)\n",
    "fl.noteoff(0, 76)\n",
    "\n",
    "# Decay of chord is held for 1 second\n",
    "s = numpy.append(s, fl.get_samples(44100 * 0))\n",
    "\n",
    "print(stats.describe(s))\n",
    "\n",
    "fl.delete()\n",
    "\n",
    "samps = fluidsynth.raw_audio_string(s)\n",
    "\n",
    "print (len(samps))\n",
    "print ('Starting playback')\n",
    "strm.write(samps)\n"
   ]
  },
  {
   "cell_type": "markdown",
   "metadata": {},
   "source": [
    "## Example 2 - Sequencer"
   ]
  },
  {
   "cell_type": "code",
   "execution_count": 6,
   "metadata": {},
   "outputs": [],
   "source": [
    "#!/usr/bin/env python3\n",
    "\n",
    "import time\n",
    "import fluidsynth\n",
    "from ctypes import *\n",
    "\n",
    "seqduration = 1000\n",
    "\n",
    "def schedule_next_callback():\n",
    "    # I want to be called back before the end of the next sequence\n",
    "    \n",
    "    callbackdate = int(now + seqduration/2)\n",
    "    print(\"callback called: \" + str(callbackdate))\n",
    "    sequencer.timer(callbackdate, dest=mySeqID)\n",
    "\n",
    "def schedule_next_sequence():\n",
    "    global now\n",
    "    # the sequence to play\n",
    "    # the beat : 2 beats per sequence\n",
    "    sequencer.note(int(now + seqduration * 1/4), 0, 60, duration=300, velocity=80, dest=synthSeqID)\n",
    "    sequencer.note(int(now + seqduration * 2/4), 0, 80, duration=300, velocity=80, dest=synthSeqID)\n",
    "    sequencer.note(int(now + seqduration * 3/4), 0, 85, duration=500, velocity=80, dest=synthSeqID)\n",
    "    # melody\n",
    "    sequencer.note(int(now + seqduration*0/4), 1, 45, duration=int(1000*3/10), velocity=int(127*2/3), dest=synthSeqID)\n",
    "    sequencer.note(int(now + seqduration*1/4), 1, 50, duration=int(1000*3/10), velocity=int(127*2/3), dest=synthSeqID)\n",
    "    sequencer.note(int(now + seqduration*2/4), 1, 55, duration=int(1000*3/10), velocity=int(127*3/3), dest=synthSeqID)\n",
    "    sequencer.note(int(now + seqduration*3/4), 1, 50, duration=int(1000*3/10), velocity=int(127*3/3), dest=synthSeqID)\n",
    "\n",
    "    # so that we are called back early enough to schedule the next sequence\n",
    "    # schedule_next_callback()\n",
    "    # print(sequencer)\n",
    "    \n",
    "    now = now + seqduration\n",
    "\n",
    "def seq_callback(time, event, seq, data):\n",
    "    schedule_next_sequence()\n",
    "\n",
    "if __name__==\"__main__\":\n",
    "    global sequencer, fs, mySeqID, synthSeqID, now\n",
    "    fs = fluidsynth.Synth()\n",
    "    fs.start(driver=\"coreaudio\", midi_driver=\"coremidi\")\n",
    "\n",
    "    sfid = fs.sfload(\"../data/sf2/generaluser.v.1.471.sf2\")\n",
    "    fs.program_select(0, sfid, 0, 40) # Guitar \n",
    "    fs.program_select(1, sfid, 1, 56) # Trumpet\n",
    "    # Volume changes\n",
    "    fs.cc(chan=0, ctrl=7, val=100)\n",
    "    fs.cc(chan=1, ctrl=7, val=80)\n",
    "\n",
    "    sequencer = fluidsynth.Sequencer()\n",
    "    synthSeqID = sequencer.register_fluidsynth(fs)\n",
    "    mySeqID = sequencer.register_client(\"mycallback\", seq_callback)\n",
    "    now = sequencer.get_tick()\n",
    "    schedule_next_sequence()\n",
    "\n",
    "    time.sleep(10)\n",
    "\n",
    "    sequencer.delete()\n",
    "    fs.delete()"
   ]
  },
  {
   "cell_type": "code",
   "execution_count": null,
   "metadata": {},
   "outputs": [],
   "source": []
  },
  {
   "cell_type": "code",
   "execution_count": null,
   "metadata": {},
   "outputs": [],
   "source": []
  }
 ],
 "metadata": {
  "kernelspec": {
   "display_name": "Python 3",
   "language": "python",
   "name": "python3"
  },
  "language_info": {
   "codemirror_mode": {
    "name": "ipython",
    "version": 3
   },
   "file_extension": ".py",
   "mimetype": "text/x-python",
   "name": "python",
   "nbconvert_exporter": "python",
   "pygments_lexer": "ipython3",
   "version": "3.6.5"
  }
 },
 "nbformat": 4,
 "nbformat_minor": 2
}
